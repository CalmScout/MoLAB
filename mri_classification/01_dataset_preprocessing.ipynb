{
 "cells": [
  {
   "cell_type": "markdown",
   "metadata": {},
   "source": [
    "## Create dataset of *.png* files from datset of *.mat* files\n",
    "Magnetic resonance imaging (MRI) scans use strong magnetic field (our dataset conists from images mostly from 1.5T machines that is the most common ones) to create detailed images of the organs and tissues within the body. <br>\n",
    "The whole MRI scan represents 3D array which is ususally stored at PACS systems as sequence of 2D slices in DICOM format (let us name  `x` and `y` for convention those axis that are stored in DICOM files). Each DICOM file contains metadata - patient information, hospital details, date of aquisition as well as MRI machine settings. For anonymization purposes and to reduce storage footprint set of DICOM files may be converted to `.mat` files with only 3D array data.<br>\n",
    "For mathematical analysis of spatial features it is vitally to have as much as possible slices, i.e. small `dz` step between slices in the third axe `z`. There is no a lot of such datasets with small `dz`, because acquisition of such images increases acquisition time and do not enhance quality of each of `xy` slice. Radiologists as well as medical doctors works mostly with 2D images, so they generally prefer not to 'waste' their time during screening to obtain bigger number of slices."
   ]
  },
  {
   "cell_type": "markdown",
   "metadata": {},
   "source": [
    "Conversion steps of `.mat` files to the set of `.png` files\n",
    "- [x] Extract one bounding box(patch) from image, using the mask. Even if we have multifocal slice we still would have one bounding box;\n",
    "- [x] Compute multiplication to the mask. In multifocal case this would replace non-tumor tissue by `0`s;\n",
    "- [x] Put to the center of the image of fixed size e. g. `224 x 224`, apply zero-padding to fit to required size;"
   ]
  },
  {
   "cell_type": "code",
   "execution_count": 1,
   "metadata": {},
   "outputs": [],
   "source": [
    "%reload_ext autoreload\n",
    "%autoreload 2\n",
    "\n",
    "# code for being able import from module which is in the parent directory\n",
    "import os,sys,inspect\n",
    "currentdir = os.path.dirname(os.path.abspath(inspect.getfile(inspect.currentframe())))\n",
    "parentdir = os.path.dirname(currentdir)\n",
    "sys.path.insert(0, parentdir)\n",
    "\n",
    "from pathlib import Path\n",
    "import time\n",
    "from dataset_creators import create_imagenet_dataset"
   ]
  },
  {
   "cell_type": "markdown",
   "metadata": {},
   "source": [
    "Specify path to data."
   ]
  },
  {
   "cell_type": "code",
   "execution_count": 4,
   "metadata": {},
   "outputs": [],
   "source": [
    "path_from = Path(\"/storage_1/003_raw_gbm_met_classifier/\")\n",
    "path_split_csv = Path(\"/storage_1/003_raw_gbm_met_classifier/split.csv\")"
   ]
  },
  {
   "cell_type": "markdown",
   "metadata": {},
   "source": [
    "Following two cells create dataset of `.png` files from dataset of `.mat` files: with multiplication on masks and cenetring the image and without a such preprocessing. From practical point of view only relatively big tumours are interesting in case of glioblastoma vs brain metastases caracterization - multiple small tumors almost always are metastasis. Therefore we consider only those images that contains at least 50 non-healthy pixels (tumor or necrosis)."
   ]
  },
  {
   "cell_type": "code",
   "execution_count": 5,
   "metadata": {},
   "outputs": [
    {
     "name": "stderr",
     "output_type": "stream",
     "text": [
      "100%|██████████| 848/848 [16:31<00:00,  1.17s/it]\n"
     ]
    }
   ],
   "source": [
    "path_to = Path(\"/storage_1/dataset_classification_threshold_50/\")\n",
    "create_imagenet_dataset(path_from=path_from, path_to=path_to, path_split_csv=path_split_csv, tol_threshold=50);"
   ]
  },
  {
   "cell_type": "code",
   "execution_count": 7,
   "metadata": {},
   "outputs": [
    {
     "name": "stderr",
     "output_type": "stream",
     "text": [
      "100%|██████████| 848/848 [21:47<00:00,  1.54s/it]\n"
     ]
    }
   ],
   "source": [
    "path_to = Path(\"/storage_1/dataset_classification_threshold_50_whole/\")\n",
    "create_imagenet_dataset(path_from=path_from, path_to=path_to, path_split_csv=path_split_csv, slice_func=\"mat2png\", tol_threshold=50)"
   ]
  },
  {
   "cell_type": "code",
   "execution_count": null,
   "metadata": {},
   "outputs": [],
   "source": []
  }
 ],
 "metadata": {
  "kernelspec": {
   "display_name": "Python 3",
   "language": "python",
   "name": "python3"
  },
  "language_info": {
   "codemirror_mode": {
    "name": "ipython",
    "version": 3
   },
   "file_extension": ".py",
   "mimetype": "text/x-python",
   "name": "python",
   "nbconvert_exporter": "python",
   "pygments_lexer": "ipython3",
   "version": "3.7.5"
  }
 },
 "nbformat": 4,
 "nbformat_minor": 4
}
